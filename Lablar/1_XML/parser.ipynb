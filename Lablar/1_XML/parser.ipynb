{
 "cells": [
  {
   "cell_type": "code",
   "execution_count": 2,
   "metadata": {},
   "outputs": [],
   "source": [
    "from lxml import etree"
   ]
  },
  {
   "cell_type": "code",
   "execution_count": 3,
   "metadata": {},
   "outputs": [],
   "source": [
    "parser = etree.XMLParser(dtd_validation=True)\n",
    "tree = etree.parse(\"katalog.xml\", parser)"
   ]
  },
  {
   "cell_type": "code",
   "execution_count": 4,
   "metadata": {},
   "outputs": [
    {
     "name": "stdout",
     "output_type": "stream",
     "text": [
      "kitaplar {}\n",
      "plaklar {}\n"
     ]
    }
   ],
   "source": [
    "root = tree.getroot()\n",
    "for child in root:\n",
    "    print(child.tag, child.attrib)"
   ]
  },
  {
   "cell_type": "code",
   "execution_count": 6,
   "metadata": {},
   "outputs": [
    {
     "name": "stdout",
     "output_type": "stream",
     "text": [
      "katalog\n",
      "2\n"
     ]
    }
   ],
   "source": [
    "print(root.tag)\n",
    "print(len(root))"
   ]
  },
  {
   "cell_type": "code",
   "execution_count": 7,
   "metadata": {},
   "outputs": [
    {
     "name": "stdout",
     "output_type": "stream",
     "text": [
      "plak {}\n",
      "plak {}\n"
     ]
    }
   ],
   "source": [
    "plaklar = root[1]\n",
    "for plak in plaklar:\n",
    "    print(plak.tag, plak.attrib)"
   ]
  },
  {
   "cell_type": "code",
   "execution_count": 8,
   "metadata": {},
   "outputs": [
    {
     "name": "stdout",
     "output_type": "stream",
     "text": [
      "kitap {'id': 'bk1'}\n",
      "kitap {'id': 'bk2', 'baskı': '3. baskı'}\n"
     ]
    }
   ],
   "source": [
    "kitaplar = root[0]\n",
    "for kitap in kitaplar:\n",
    "    print(kitap.tag, kitap.attrib)"
   ]
  },
  {
   "cell_type": "code",
   "execution_count": 11,
   "metadata": {},
   "outputs": [
    {
     "name": "stdout",
     "output_type": "stream",
     "text": [
      "kitap\n",
      "bk1\n"
     ]
    }
   ],
   "source": [
    "ilk_kitap = kitaplar[0]\n",
    "print(ilk_kitap.tag)\n",
    "print(ilk_kitap.attrib[\"id\"])"
   ]
  },
  {
   "cell_type": "code",
   "execution_count": null,
   "metadata": {},
   "outputs": [],
   "source": []
  }
 ],
 "metadata": {
  "kernelspec": {
   "display_name": "tfnew",
   "language": "python",
   "name": "python3"
  },
  "language_info": {
   "codemirror_mode": {
    "name": "ipython",
    "version": 3
   },
   "file_extension": ".py",
   "mimetype": "text/x-python",
   "name": "python",
   "nbconvert_exporter": "python",
   "pygments_lexer": "ipython3",
   "version": "3.12.2"
  },
  "orig_nbformat": 4
 },
 "nbformat": 4,
 "nbformat_minor": 2
}
